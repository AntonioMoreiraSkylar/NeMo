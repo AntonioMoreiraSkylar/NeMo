{
    "cells": [
        {
            "cell_type": "markdown",
            "id": "b5c36beb",
            "metadata": {
                "id": "8d0bbac2"
            },
            "source": [
                "# Finetuning FastPitch for a new speaker\n",
                "\n",
                "In this tutorial, we will finetune a single speaker FastPitch (with alignment) model on 5 mins of a new speaker's data. We will finetune the model parameters only on the new speaker's text and speech pairs (though see the section at the end to learn more about mixing speaker data).\n",
                "\n",
                "We will download the training data, then generate and run a training command to finetune Fastpitch on 5 mins of data, and synthesize the audio from the trained checkpoint.\n",
                "\n",
                "A final section will describe approaches to improve audio quality past this notebook."
            ]
        },
        {
            "cell_type": "markdown",
            "id": "4881d33e",
            "metadata": {
                "id": "nGw0CBaAtmQ6"
            },
            "source": [
                "## License\n",
                "\n",
                "> Copyright (c) 2021, NVIDIA CORPORATION & AFFILIATES.  All rights reserved.\n",
                ">\n",
                "> Licensed under the Apache License, Version 2.0 (the \"License\");\n",
                "> you may not use this file except in compliance with the License.\n",
                "> You may obtain a copy of the License at\n",
                ">\n",
                ">     http://www.apache.org/licenses/LICENSE-2.0\n",
                ">\n",
                "> Unless required by applicable law or agreed to in writing, software\n",
                "> distributed under the License is distributed on an \"AS IS\" BASIS,\n",
                "> WITHOUT WARRANTIES OR CONDITIONS OF ANY KIND, either express or implied.\n",
                "> See the License for the specific language governing permissions and\n",
                "> limitations under the License."
            ]
        },
        {
            "cell_type": "code",
            "execution_count": 17,
            "id": "736219e2",
            "metadata": {},
            "outputs": [],
            "source": [
                "import os\n",
                "import json\n",
                "from pathlib import Path\n",
                "\n",
                "import numpy as np\n",
                "import pandas as pd\n",
                "from pydub import AudioSegment\n",
                "from datasets import load_dataset, DatasetDict\n",
                "\n",
                "AUDIO_ROOT_PATH = Path(\"/home/antonio/entoa_prosodic/\")"
            ]
        },
        {
            "cell_type": "code",
            "execution_count": 3,
            "id": "bf5e0b3a",
            "metadata": {},
            "outputs": [],
            "source": [
                "# Python wrapper to invoke the given bash script with the given input args\n",
                "def run_script(script, args):\n",
                "    args = ' \\\\'.join(args)\n",
                "    cmd = f\"python {script} \\\\{args}\"\n",
                "\n",
                "    print(cmd.replace(\" \\\\\", \"\\n\"))\n",
                "    print()\n",
                "    !$cmd"
            ]
        },
        {
            "cell_type": "markdown",
            "id": "c4f10958",
            "metadata": {
                "id": "2502cf61"
            },
            "source": [
                "## Downloading data & Create Manifest"
            ]
        },
        {
            "cell_type": "markdown",
            "id": "157aef13",
            "metadata": {},
            "source": [
                "Manifest format\n",
                "\n",
                "```json\n",
                "{\n",
                "    \"audio_filepath\": \"audio/dartagnan03part1_027_dumas_0047.wav\", \n",
                "    \"text\": \"yes monsieur\", \n",
                "    \"duration\": 1.04, \n",
                "    \"text_no_preprocessing\": \"Yes, monsieur.\", \n",
                "    \"text_normalized\": \"Yes, monsieur.\"\n",
                "}\n",
                "```"
            ]
        },
        {
            "cell_type": "code",
            "execution_count": 28,
            "id": "65399f95",
            "metadata": {},
            "outputs": [
                {
                    "data": {
                        "text/plain": [
                            "DatasetDict({\n",
                            "    validation: Dataset({\n",
                            "        features: ['path', 'name', 'speaker', 'start_time', 'end_time', 'normalized_text', 'text', 'duration', 'type', 'year', 'gender', 'age_range', 'total_duration', 'quality', 'theme', 'audio'],\n",
                            "        num_rows: 473\n",
                            "    })\n",
                            "    train: Dataset({\n",
                            "        features: ['path', 'name', 'speaker', 'start_time', 'end_time', 'normalized_text', 'text', 'duration', 'type', 'year', 'gender', 'age_range', 'total_duration', 'quality', 'theme', 'audio'],\n",
                            "        num_rows: 7525\n",
                            "    })\n",
                            "})"
                        ]
                    },
                    "execution_count": 28,
                    "metadata": {},
                    "output_type": "execute_result"
                }
            ],
            "source": [
                "entoa_prosodic_ds = load_dataset(\"nilc-nlp/NURC-SP_ENTOA_TTS\", name=\"prosodic\", trust_remote_code=True)\n",
                "entoa_prosodic_ds"
            ]
        },
        {
            "cell_type": "code",
            "execution_count": 29,
            "id": "c7718c0f",
            "metadata": {},
            "outputs": [
                {
                    "name": "stdout",
                    "output_type": "stream",
                    "text": [
                        "Total speakers: 38\n",
                        "Total samples: 7525\n"
                    ]
                },
                {
                    "data": {
                        "text/html": [
                            "<div>\n",
                            "<style scoped>\n",
                            "    .dataframe tbody tr th:only-of-type {\n",
                            "        vertical-align: middle;\n",
                            "    }\n",
                            "\n",
                            "    .dataframe tbody tr th {\n",
                            "        vertical-align: top;\n",
                            "    }\n",
                            "\n",
                            "    .dataframe thead th {\n",
                            "        text-align: right;\n",
                            "    }\n",
                            "</style>\n",
                            "<table border=\"1\" class=\"dataframe\">\n",
                            "  <thead>\n",
                            "    <tr style=\"text-align: right;\">\n",
                            "      <th></th>\n",
                            "      <th>Speaker</th>\n",
                            "      <th>Count</th>\n",
                            "    </tr>\n",
                            "  </thead>\n",
                            "  <tbody>\n",
                            "    <tr>\n",
                            "      <th>0</th>\n",
                            "      <td>SP_D2_396_TB-L1</td>\n",
                            "      <td>524</td>\n",
                            "    </tr>\n",
                            "    <tr>\n",
                            "      <th>1</th>\n",
                            "      <td>SP_D2_343_TB-L1</td>\n",
                            "      <td>500</td>\n",
                            "    </tr>\n",
                            "    <tr>\n",
                            "      <th>2</th>\n",
                            "      <td>SP_DID_018_TB-L1</td>\n",
                            "      <td>396</td>\n",
                            "    </tr>\n",
                            "    <tr>\n",
                            "      <th>3</th>\n",
                            "      <td>SP_EF_153_TB-L1</td>\n",
                            "      <td>369</td>\n",
                            "    </tr>\n",
                            "    <tr>\n",
                            "      <th>4</th>\n",
                            "      <td>SP_D2_333_TB-L1</td>\n",
                            "      <td>357</td>\n",
                            "    </tr>\n",
                            "  </tbody>\n",
                            "</table>\n",
                            "</div>"
                        ],
                        "text/plain": [
                            "            Speaker  Count\n",
                            "0   SP_D2_396_TB-L1    524\n",
                            "1   SP_D2_343_TB-L1    500\n",
                            "2  SP_DID_018_TB-L1    396\n",
                            "3   SP_EF_153_TB-L1    369\n",
                            "4   SP_D2_333_TB-L1    357"
                        ]
                    },
                    "execution_count": 29,
                    "metadata": {},
                    "output_type": "execute_result"
                }
            ],
            "source": [
                "# Get unique speakers and their counts\n",
                "speakers, counts = np.unique(entoa_prosodic_ds['train']['speaker'], return_counts=True)\n",
                "\n",
                "# Create a DataFrame with speakers and their counts\n",
                "speaker_train_df = pd.DataFrame({\n",
                "    'Speaker': speakers,\n",
                "    'Count': counts\n",
                "})\n",
                "\n",
                "# Sort by count in descending order\n",
                "speaker_train_df = speaker_train_df.sort_values('Count', ascending=False).reset_index(drop=True)\n",
                "\n",
                "# Display the DataFrame\n",
                "print(f\"Total speakers: {len(speakers)}\")\n",
                "print(f\"Total samples: {sum(counts)}\")\n",
                "speaker_train_df.head(5)  # Show top 10 speakers"
            ]
        },
        {
            "cell_type": "code",
            "execution_count": 30,
            "id": "2af393f7",
            "metadata": {},
            "outputs": [
                {
                    "name": "stdout",
                    "output_type": "stream",
                    "text": [
                        "Total speakers: 36\n",
                        "Total samples: 473\n"
                    ]
                },
                {
                    "data": {
                        "text/html": [
                            "<div>\n",
                            "<style scoped>\n",
                            "    .dataframe tbody tr th:only-of-type {\n",
                            "        vertical-align: middle;\n",
                            "    }\n",
                            "\n",
                            "    .dataframe tbody tr th {\n",
                            "        vertical-align: top;\n",
                            "    }\n",
                            "\n",
                            "    .dataframe thead th {\n",
                            "        text-align: right;\n",
                            "    }\n",
                            "</style>\n",
                            "<table border=\"1\" class=\"dataframe\">\n",
                            "  <thead>\n",
                            "    <tr style=\"text-align: right;\">\n",
                            "      <th></th>\n",
                            "      <th>Speaker</th>\n",
                            "      <th>Count</th>\n",
                            "    </tr>\n",
                            "  </thead>\n",
                            "  <tbody>\n",
                            "    <tr>\n",
                            "      <th>0</th>\n",
                            "      <td>SP_EF_153_TB-L1</td>\n",
                            "      <td>38</td>\n",
                            "    </tr>\n",
                            "    <tr>\n",
                            "      <th>1</th>\n",
                            "      <td>SP_EF_388_TB-L1</td>\n",
                            "      <td>33</td>\n",
                            "    </tr>\n",
                            "    <tr>\n",
                            "      <th>2</th>\n",
                            "      <td>SP_D2_343_TB-L1</td>\n",
                            "      <td>29</td>\n",
                            "    </tr>\n",
                            "    <tr>\n",
                            "      <th>3</th>\n",
                            "      <td>SP_EF_124_TB-L1</td>\n",
                            "      <td>28</td>\n",
                            "    </tr>\n",
                            "    <tr>\n",
                            "      <th>4</th>\n",
                            "      <td>SP_EF_405_TB-L1</td>\n",
                            "      <td>27</td>\n",
                            "    </tr>\n",
                            "  </tbody>\n",
                            "</table>\n",
                            "</div>"
                        ],
                        "text/plain": [
                            "           Speaker  Count\n",
                            "0  SP_EF_153_TB-L1     38\n",
                            "1  SP_EF_388_TB-L1     33\n",
                            "2  SP_D2_343_TB-L1     29\n",
                            "3  SP_EF_124_TB-L1     28\n",
                            "4  SP_EF_405_TB-L1     27"
                        ]
                    },
                    "execution_count": 30,
                    "metadata": {},
                    "output_type": "execute_result"
                }
            ],
            "source": [
                "# Get unique speakers and their counts\n",
                "speakers, counts = np.unique(entoa_prosodic_ds['validation']['speaker'], return_counts=True)\n",
                "\n",
                "# Create a DataFrame with speakers and their counts\n",
                "speaker_val_df = pd.DataFrame({\n",
                "    'Speaker': speakers,\n",
                "    'Count': counts\n",
                "})\n",
                "\n",
                "# Sort by count in descending order\n",
                "speaker_val_df = speaker_val_df.sort_values('Count', ascending=False).reset_index(drop=True)\n",
                "\n",
                "# Display the DataFrame\n",
                "print(f\"Total speakers: {len(speakers)}\")\n",
                "print(f\"Total samples: {sum(counts)}\")\n",
                "speaker_val_df.head(5)  # Show top 10 speakers"
            ]
        },
        {
            "cell_type": "code",
            "execution_count": 5,
            "id": "c84f000e",
            "metadata": {},
            "outputs": [],
            "source": [
                "def convert_wav_sample_rate(input_file:Path, output_file:Path, sample_rate:int):\n",
                "    \"\"\"\n",
                "    Convert a WAV file to a different sample rate using pydub.\n",
                "    \n",
                "    Args:\n",
                "        input_file (str): Path to the input WAV file\n",
                "        output_file (str): Path to save the converted WAV file\n",
                "        sample_rate (int): Target sample rate in Hz (e.g., 44100, 48000)\n",
                "    \n",
                "    Returns:\n",
                "        bool: True if conversion was successful, False otherwise\n",
                "    \"\"\"\n",
                "    assert input_file.exists()\n",
                "    \n",
                "    try:\n",
                "        # Load the audio file\n",
                "        audio:AudioSegment = AudioSegment.from_wav(input_file)\n",
                "\n",
                "        if audio.frame_rate == sample_rate:\n",
                "            return True\n",
                "        \n",
                "        # Set the new sample rate\n",
                "        audio = audio.set_frame_rate(sample_rate)\n",
                "        \n",
                "        # Export with the new sample rate\n",
                "        audio.export(output_file, format=\"wav\")\n",
                "        \n",
                "        return True\n",
                "    \n",
                "    except Exception as e:\n",
                "        print(f\"Error during conversion: {e}\")\n",
                "        return False"
            ]
        },
        {
            "cell_type": "code",
            "execution_count": 5,
            "id": "bef465e0",
            "metadata": {},
            "outputs": [
                {
                    "data": {
                        "text/plain": [
                            "22050"
                        ]
                    },
                    "execution_count": 5,
                    "metadata": {},
                    "output_type": "execute_result"
                }
            ],
            "source": [
                "audio_path = Path(\"/home/antonio/SP_D2_062_seg_3870.60_3871.36.wav\")\n",
                "audio = AudioSegment.from_wav(audio_path)\n",
                "audio.frame_rate\n",
                "# convert_wav_sample_rate(audio_path, audio_path, 22050)"
            ]
        },
        {
            "cell_type": "code",
            "execution_count": 1,
            "id": "f31af7ae",
            "metadata": {},
            "outputs": [
                {
                    "ename": "NameError",
                    "evalue": "name 'DatasetDict' is not defined",
                    "output_type": "error",
                    "traceback": [
                        "\u001b[0;31m---------------------------------------------------------------------------\u001b[0m",
                        "\u001b[0;31mNameError\u001b[0m                                 Traceback (most recent call last)",
                        "Cell \u001b[0;32mIn[1], line 1\u001b[0m\n\u001b[0;32m----> 1\u001b[0m \u001b[38;5;28;01mdef\u001b[39;00m\u001b[38;5;250m \u001b[39m\u001b[38;5;21mcreate_manifest\u001b[39m(dataset:\u001b[43mDatasetDict\u001b[49m, split:\u001b[38;5;28mstr\u001b[39m) \u001b[38;5;241m-\u001b[39m\u001b[38;5;241m>\u001b[39m \u001b[38;5;28mtuple\u001b[39m[Path, \u001b[38;5;28mdict\u001b[39m]:\n\u001b[1;32m      2\u001b[0m     manifest_path \u001b[38;5;241m=\u001b[39m AUDIO_ROOT_PATH\u001b[38;5;241m/\u001b[39m\u001b[38;5;124mf\u001b[39m\u001b[38;5;124m'\u001b[39m\u001b[38;5;132;01m{\u001b[39;00msplit\u001b[38;5;132;01m}\u001b[39;00m\u001b[38;5;124m_manifest.json\u001b[39m\u001b[38;5;124m'\u001b[39m\n\u001b[1;32m      3\u001b[0m     speakers \u001b[38;5;241m=\u001b[39m \u001b[38;5;28mdict\u001b[39m()\n",
                        "\u001b[0;31mNameError\u001b[0m: name 'DatasetDict' is not defined"
                    ]
                }
            ],
            "source": [
                "def create_manifest(dataset:DatasetDict, split:str) -> tuple[Path, dict]:\n",
                "    manifest_path = AUDIO_ROOT_PATH/f'{split}_manifest.json'\n",
                "    speakers = dict()\n",
                "    sid = 0\n",
                "\n",
                "    if manifest_path.exists():\n",
                "        os.remove(manifest_path)\n",
                "\n",
                "    with open(AUDIO_ROOT_PATH/f'{split}_manifest.json', 'w+') as f:\n",
                "        for sample in dataset[split]:\n",
                "            audio_path:Path = AUDIO_ROOT_PATH / sample['path']\n",
                "\n",
                "            assert audio_path.exists()\n",
                "            assert convert_wav_sample_rate(audio_path, audio_path, 22050)\n",
                "\n",
                "            # try:\n",
                "            #     speakers[sample['speaker']]+=1\n",
                "            # except:\n",
                "            #     speakers[sample['speaker']]=0\n",
                "\n",
                "            # if not sample['speaker'] == 'SP_D2_333_TB-L1':\n",
                "            #     continue\n",
                "\n",
                "            speakers[sample['speaker']] = sid\n",
                "\n",
                "            json.dump({\n",
                "                \"audio_filepath\": str(audio_path),\n",
                "                \"duration\": float(sample['duration']),\n",
                "                \"text\": sample['normalized_text'],\n",
                "                \"speaker\": sid\n",
                "            }, f)\n",
                "\n",
                "            sid+=1\n",
                "            f.write('\\n')\n",
                "\n",
                "    return manifest_path, speakers"
            ]
        },
        {
            "cell_type": "markdown",
            "id": "d28cb567",
            "metadata": {},
            "source": [
                "```bash\n",
                "sudo chmod -R 777 .\n",
                "```"
            ]
        },
        {
            "cell_type": "code",
            "execution_count": 120,
            "id": "2d7f8de1",
            "metadata": {},
            "outputs": [],
            "source": [
                "manifest_train_path, sp1 = create_manifest(entoa_prosodic_ds, 'train')\n",
                "manifest_validation_path, sp2 = create_manifest(entoa_prosodic_ds, 'validation')"
            ]
        },
        {
            "cell_type": "code",
            "execution_count": 112,
            "id": "f01f7a93",
            "metadata": {},
            "outputs": [
                {
                    "data": {
                        "text/plain": [
                            "41"
                        ]
                    },
                    "execution_count": 112,
                    "metadata": {},
                    "output_type": "execute_result"
                }
            ],
            "source": [
                "len(sp1|sp2)"
            ]
        },
        {
            "cell_type": "markdown",
            "id": "60dc39b7",
            "metadata": {},
            "source": [
                "# Speaker Mapping"
            ]
        },
        {
            "cell_type": "code",
            "execution_count": 116,
            "id": "444e2ec4",
            "metadata": {},
            "outputs": [
                {
                    "name": "stdout",
                    "output_type": "stream",
                    "text": [
                        "python /home/antonio/NeMo/scripts/dataset_processing/tts/create_speaker_map.py\n",
                        "--manifest_path=/home/antonio/entoa_prosodic/train_manifest.json\n",
                        "--manifest_path=/home/antonio/entoa_prosodic/validation_manifest.json\n",
                        "--speaker_map_path=/home/antonio/entoa_prosodic/speakers.json\n",
                        "\n"
                    ]
                }
            ],
            "source": [
                "speaker_map_script = Path(\"/home/antonio/NeMo/scripts/dataset_processing/tts/\") / \"create_speaker_map.py\"\n",
                "\n",
                "train_manifest_filepath = manifest_train_path\n",
                "dev_manifest_filepath = manifest_validation_path\n",
                "speaker_filepath = AUDIO_ROOT_PATH / \"speakers.json\"\n",
                "\n",
                "args = [\n",
                "    f\"--manifest_path={train_manifest_filepath}\",\n",
                "    f\"--manifest_path={dev_manifest_filepath}\",\n",
                "    f\"--speaker_map_path={speaker_filepath}\"\n",
                "]\n",
                "\n",
                "run_script(speaker_map_script, args)"
            ]
        },
        {
            "cell_type": "code",
            "execution_count": null,
            "id": "ed1898b9",
            "metadata": {},
            "outputs": [
                {
                    "name": "stdout",
                    "output_type": "stream",
                    "text": [
                        "/home/antonio\n"
                    ]
                }
            ],
            "source": [
                "home_path = !(echo $HOME)\n",
                "home_path = home_path[0]\n",
                "print(home_path)"
            ]
        },
        {
            "cell_type": "code",
            "execution_count": 11,
            "id": "dbaae91a",
            "metadata": {
                "id": "LggELooctXCT",
                "scrolled": true
            },
            "outputs": [
                {
                    "name": "stdout",
                    "output_type": "stream",
                    "text": [
                        "[NeMo I 2025-03-08 19:26:31 cloud:58] Found existing object /home/antonio/.cache/torch/NeMo/NeMo_2.1.0/tts_en_fastpitch_align/b7d086a07b5126c12d5077d9a641a38c/tts_en_fastpitch_align.nemo.\n",
                        "[NeMo I 2025-03-08 19:26:31 cloud:64] Re-using file from: /home/antonio/.cache/torch/NeMo/NeMo_2.1.0/tts_en_fastpitch_align/b7d086a07b5126c12d5077d9a641a38c/tts_en_fastpitch_align.nemo\n",
                        "[NeMo I 2025-03-08 19:26:31 common:826] Instantiating model from pre-trained checkpoint\n"
                    ]
                },
                {
                    "name": "stderr",
                    "output_type": "stream",
                    "text": [
                        " NeMo-text-processing :: INFO     :: Creating ClassifyFst grammars.\n",
                        "[NeMo W 2025-03-08 19:26:57 en_us_arpabet:66] apply_to_oov_word=None, This means that some of words will remain unchanged if they are not handled by any of the rules in self.parse_one_word(). This may be intended if phonemes and chars are both valid inputs, otherwise, you may see unexpected deletions in your input.\n",
                        "[NeMo W 2025-03-08 19:26:57 modelPT:176] If you intend to do training or fine-tuning, please call the ModelPT.setup_training_data() method and provide a valid configuration file to setup the train data loader.\n",
                        "    Train config : \n",
                        "    dataset:\n",
                        "      _target_: nemo.collections.tts.torch.data.TTSDataset\n",
                        "      manifest_filepath: /ws/LJSpeech/nvidia_ljspeech_train_clean_ngc.json\n",
                        "      sample_rate: 22050\n",
                        "      sup_data_path: /raid/LJSpeech/supplementary\n",
                        "      sup_data_types:\n",
                        "      - align_prior_matrix\n",
                        "      - pitch\n",
                        "      n_fft: 1024\n",
                        "      win_length: 1024\n",
                        "      hop_length: 256\n",
                        "      window: hann\n",
                        "      n_mels: 80\n",
                        "      lowfreq: 0\n",
                        "      highfreq: 8000\n",
                        "      max_duration: null\n",
                        "      min_duration: 0.1\n",
                        "      ignore_file: null\n",
                        "      trim: false\n",
                        "      pitch_fmin: 65.40639132514966\n",
                        "      pitch_fmax: 2093.004522404789\n",
                        "      pitch_norm: true\n",
                        "      pitch_mean: 212.35873413085938\n",
                        "      pitch_std: 68.52806091308594\n",
                        "      use_beta_binomial_interpolator: true\n",
                        "    dataloader_params:\n",
                        "      drop_last: false\n",
                        "      shuffle: true\n",
                        "      batch_size: 24\n",
                        "      num_workers: 0\n",
                        "    \n",
                        "[NeMo W 2025-03-08 19:26:57 modelPT:183] If you intend to do validation, please call the ModelPT.setup_validation_data() or ModelPT.setup_multiple_validation_data() method and provide a valid configuration file to setup the validation data loader(s). \n",
                        "    Validation config : \n",
                        "    dataset:\n",
                        "      _target_: nemo.collections.tts.torch.data.TTSDataset\n",
                        "      manifest_filepath: /ws/LJSpeech/nvidia_ljspeech_val_clean_ngc.json\n",
                        "      sample_rate: 22050\n",
                        "      sup_data_path: /raid/LJSpeech/supplementary\n",
                        "      sup_data_types:\n",
                        "      - align_prior_matrix\n",
                        "      - pitch\n",
                        "      n_fft: 1024\n",
                        "      win_length: 1024\n",
                        "      hop_length: 256\n",
                        "      window: hann\n",
                        "      n_mels: 80\n",
                        "      lowfreq: 0\n",
                        "      highfreq: 8000\n",
                        "      max_duration: null\n",
                        "      min_duration: null\n",
                        "      ignore_file: null\n",
                        "      trim: false\n",
                        "      pitch_fmin: 65.40639132514966\n",
                        "      pitch_fmax: 2093.004522404789\n",
                        "      pitch_norm: true\n",
                        "      pitch_mean: 212.35873413085938\n",
                        "      pitch_std: 68.52806091308594\n",
                        "      use_beta_binomial_interpolator: true\n",
                        "    dataloader_params:\n",
                        "      drop_last: false\n",
                        "      shuffle: false\n",
                        "      batch_size: 24\n",
                        "      num_workers: 0\n",
                        "    \n"
                    ]
                },
                {
                    "name": "stdout",
                    "output_type": "stream",
                    "text": [
                        "[NeMo I 2025-03-08 19:26:57 features:305] PADDING: 1\n",
                        "[NeMo I 2025-03-08 19:26:57 save_restore_connector:275] Model FastPitchModel was successfully restored from /home/antonio/.cache/torch/NeMo/NeMo_2.1.0/tts_en_fastpitch_align/b7d086a07b5126c12d5077d9a641a38c/tts_en_fastpitch_align.nemo.\n"
                    ]
                },
                {
                    "data": {
                        "text/plain": [
                            "[PosixPath('/home/antonio/.cache/torch/NeMo/NeMo_2.1.0/tts_en_fastpitch_align/b7d086a07b5126c12d5077d9a641a38c/tts_en_fastpitch_align.nemo')]"
                        ]
                    },
                    "execution_count": 11,
                    "metadata": {},
                    "output_type": "execute_result"
                }
            ],
            "source": [
                "import os\n",
                "import json\n",
                "from pathlib import Path\n",
                "\n",
                "import torch\n",
                "import IPython.display as ipd\n",
                "from matplotlib.pyplot import imshow\n",
                "from matplotlib import pyplot as plt\n",
                "\n",
                "from nemo.collections.tts.models import FastPitchModel\n",
                "FastPitchModel.from_pretrained(\"tts_en_fastpitch\")\n",
                "\n",
                "nemo_files = [p for p in Path(f\"{home_path}/.cache/torch/NeMo/\").glob(\"**/tts_en_fastpitch_align.nemo\")]\n",
                "nemo_files\n",
                "# print(f\"Copying {nemo_files[0]} to ./\")\n",
                "# Path(\"./tts_en_fastpitch_align.nemo\").write_bytes(nemo_files[0].read_bytes())"
            ]
        },
        {
            "cell_type": "markdown",
            "id": "49aa5048",
            "metadata": {
                "id": "6c8b13b8"
            },
            "source": [
                "To finetune the FastPitch model on the above created filelists, we use the `examples/tts/fastpitch_finetune.py` script to train the models with the `fastpitch_align_v1.05.yaml` configuration.\n",
                "\n",
                "Let's grab those files."
            ]
        },
        {
            "cell_type": "code",
            "execution_count": null,
            "id": "200c7b26",
            "metadata": {
                "id": "3zg2H-32dNBU"
            },
            "outputs": [],
            "source": [
                "# !wget https://raw.githubusercontent.com/nvidia/NeMo/$BRANCH/examples/tts/fastpitch_finetune.py\n",
                "\n",
                "# !mkdir -p conf \\\n",
                "# && cd conf \\\n",
                "# && wget https://raw.githubusercontent.com/nvidia/NeMo/$BRANCH/examples/tts/conf/fastpitch_align_v1.05.yaml \\\n",
                "# && cd .."
            ]
        },
        {
            "cell_type": "markdown",
            "id": "5415162b",
            "metadata": {},
            "source": [
                "We also need some additional files (see `FastPitch_MixerTTS_Training.ipynb` tutorial for more details) for training. Let's download these, too."
            ]
        },
        {
            "cell_type": "code",
            "execution_count": null,
            "id": "20374059",
            "metadata": {},
            "outputs": [],
            "source": [
                "# additional files\n",
                "!mkdir -p tts_dataset_files && cd tts_dataset_files \\\n",
                "&& wget https://raw.githubusercontent.com/NVIDIA/NeMo/$BRANCH/scripts/tts_dataset_files/cmudict-0.7b_nv22.10 \\\n",
                "&& wget https://raw.githubusercontent.com/NVIDIA/NeMo/$BRANCH/scripts/tts_dataset_files/heteronyms-052722 \\\n",
                "&& cd .."
            ]
        },
        {
            "cell_type": "markdown",
            "id": "779af190",
            "metadata": {
                "id": "ef75d1d5"
            },
            "source": [
                "## Finetuning FastPitch"
            ]
        },
        {
            "cell_type": "markdown",
            "id": "094c3383",
            "metadata": {
                "id": "12b5511c"
            },
            "source": [
                "We can now train our model with the following command:\n",
                "\n",
                "**NOTE: This will take about 50 minutes on colab's K80 GPUs.**"
            ]
        },
        {
            "cell_type": "code",
            "execution_count": 76,
            "id": "c3793b6e",
            "metadata": {},
            "outputs": [],
            "source": [
                "NEMO_DIR = Path('/home/antonio/NeMo/')\n",
                "DATA_DIR = Path('/home/antonio/data/')\n",
                "\n",
                "FASTPITCH_PATH = Path('/home/antonio/.cache/torch/NeMo/NeMo_2.1.0/tts_en_fastpitch_align/b7d086a07b5126c12d5077d9a641a38c/tts_en_fastpitch_align.nemo')\n",
                "FINETUNING_SCRIPT_PATH = NEMO_DIR / 'examples' / 'tts' / 'fastpitch_finetune.py'\n",
                "CONFIG_TTS_PATH = NEMO_DIR / 'examples' / 'tts' / 'conf' / 'fastpitch_align_v1.05.yaml'\n",
                "\n",
                "TRAIN_DATASET_PATH = DATA_DIR / '9017_manifest_train_dur_5_mins_local.json'\n",
                "VALIDATION_DATASET_PATH = DATA_DIR / '9017_manifest_dev_ns_all_local.json'\n",
                "\n",
                "SUP_DATA_PATH = DATA_DIR / 'fastpitch_sup_data/'\n",
                "EXP_MANAGER_DIR = DATA_DIR / 'ljspeech_to_9017_no_mixing_5_mins'\n",
                "\n",
                "CMU_DICT_PATH = NEMO_DIR / 'scripts' / 'tts_dataset_files' / 'cmudict-0.7b_nv22.10'\n",
                "HETERONYMS_PATH = NEMO_DIR / 'scripts' / 'tts_dataset_files' / 'heteronyms-052722'\n",
                "\n",
                "\n",
                "assert all([\n",
                "    NEMO_DIR.exists(),\n",
                "    DATA_DIR.exists(),\n",
                "    FASTPITCH_PATH.exists(),\n",
                "    FINETUNING_SCRIPT_PATH.exists(),\n",
                "    CONFIG_TTS_PATH.exists(),\n",
                "    TRAIN_DATASET_PATH.exists(),\n",
                "    VALIDATION_DATASET_PATH.exists(),\n",
                "    CMU_DICT_PATH.exists(),\n",
                "    HETERONYMS_PATH.exists(),\n",
                "])"
            ]
        },
        {
            "cell_type": "code",
            "execution_count": 77,
            "id": "4b7cedeb",
            "metadata": {},
            "outputs": [],
            "source": [
                "# If an error occurs, log the entire stacktrace.\n",
                "os.environ[\"HYDRA_FULL_ERROR\"] = \"1\"\n",
                "os.environ[\"OC_CAUSE\"] = \"1\""
            ]
        },
        {
            "cell_type": "code",
            "execution_count": 121,
            "id": "b755d946",
            "metadata": {},
            "outputs": [
                {
                    "name": "stdout",
                    "output_type": "stream",
                    "text": [
                        "[NeMo W 2025-03-09 04:50:52 nemo_logging:361] /opt/conda/envs/nemo/lib/python3.10/site-packages/hydra/_internal/hydra.py:119: UserWarning: Future Hydra versions will no longer change working directory at job runtime by default.\n",
                        "    See https://hydra.cc/docs/1.2/upgrades/1.1_to_1.2/changes_to_job_working_dir/ for more information.\n",
                        "      ret = run_job(\n",
                        "    \n",
                        "[NeMo W 2025-03-09 04:50:52 nemo_logging:361] /opt/conda/envs/nemo/lib/python3.10/site-packages/lightning/fabric/connector.py:571: `precision=16` is supported for historical reasons but its usage is discouraged. Please set your precision to 16-mixed instead!\n",
                        "    \n",
                        "Using 16bit Automatic Mixed Precision (AMP)\n",
                        "GPU available: True (cuda), used: True\n",
                        "TPU available: False, using: 0 TPU cores\n",
                        "HPU available: False, using: 0 HPUs\n",
                        "[NeMo I 2025-03-09 04:50:52 exp_manager:450] ExpManager schema\n",
                        "[NeMo I 2025-03-09 04:50:52 exp_manager:451] {'explicit_log_dir': None, 'exp_dir': None, 'name': None, 'version': None, 'use_datetime_version': True, 'resume_if_exists': False, 'resume_past_end': False, 'resume_ignore_no_checkpoint': False, 'resume_from_checkpoint': None, 'create_tensorboard_logger': True, 'summary_writer_kwargs': None, 'create_wandb_logger': False, 'wandb_logger_kwargs': None, 'create_mlflow_logger': False, 'mlflow_logger_kwargs': {'experiment_name': None, 'tracking_uri': None, 'tags': None, 'save_dir': './mlruns', 'prefix': '', 'artifact_location': None, 'run_id': None, 'log_model': False}, 'create_dllogger_logger': False, 'dllogger_logger_kwargs': {'verbose': False, 'stdout': False, 'json_file': './dllogger.json'}, 'create_clearml_logger': False, 'clearml_logger_kwargs': {'project': None, 'task': None, 'connect_pytorch': False, 'model_name': None, 'tags': None, 'log_model': False, 'log_cfg': False, 'log_metrics': False}, 'create_neptune_logger': False, 'neptune_logger_kwargs': None, 'create_checkpoint_callback': True, 'checkpoint_callback_params': {'filepath': None, 'dirpath': None, 'filename': None, 'monitor': 'val_loss', 'verbose': True, 'save_last': True, 'save_top_k': 3, 'save_weights_only': False, 'mode': 'min', 'auto_insert_metric_name': True, 'every_n_epochs': 1, 'every_n_train_steps': None, 'train_time_interval': None, 'prefix': None, 'postfix': '.nemo', 'save_best_model': False, 'always_save_nemo': False, 'save_nemo_on_train_end': True, 'model_parallel_size': None, 'save_on_train_epoch_end': False, 'async_save': False, 'save_last_n_optim_states': -1}, 'create_early_stopping_callback': False, 'early_stopping_callback_params': {'monitor': 'val_loss', 'mode': 'min', 'min_delta': 0.001, 'patience': 10, 'verbose': True, 'strict': True, 'check_finite': True, 'stopping_threshold': None, 'divergence_threshold': None, 'check_on_train_epoch_end': None, 'log_rank_zero_only': False}, 'create_preemption_callback': True, 'files_to_copy': None, 'log_step_timing': True, 'log_delta_step_timing': False, 'step_timing_kwargs': {'reduction': 'mean', 'sync_cuda': False, 'buffer_size': 1}, 'log_local_rank_0_only': False, 'log_global_rank_0_only': False, 'disable_validation_on_resume': True, 'ema': {'enable': False, 'decay': 0.999, 'cpu_offload': False, 'validate_original_weights': False, 'every_n_steps': 1}, 'max_time_per_run': None, 'seconds_to_sleep': 5.0, 'create_straggler_detection_callback': False, 'straggler_detection_params': {'report_time_interval': 300.0, 'calc_relative_gpu_perf': True, 'calc_individual_gpu_perf': True, 'num_gpu_perf_scores_to_log': 5, 'gpu_relative_perf_threshold': 0.7, 'gpu_individual_perf_threshold': 0.7, 'stop_if_detected': False}, 'create_fault_tolerance_callback': False, 'fault_tolerance': {'workload_check_interval': 5.0, 'initial_rank_heartbeat_timeout': 3600.0, 'rank_heartbeat_timeout': 2700.0, 'calculate_timeouts': True, 'safety_factor': 5.0, 'rank_termination_signal': <Signals.SIGKILL: 9>, 'log_level': 'INFO', 'max_rank_restarts': 0, 'max_subsequent_job_failures': 0, 'additional_ft_launcher_args': '', 'simulated_fault': None}, 'log_tflops_per_sec_per_gpu': True}\n",
                        "[NeMo I 2025-03-09 04:50:52 exp_manager:509] Experiments will be logged at /home/antonio/data/ljspeech_to_9017_no_mixing_5_mins/FastPitch/2025-03-09_04-50-52\n",
                        "[NeMo I 2025-03-09 04:50:52 exp_manager:1063] TensorboardLogger has been set up\n",
                        "[NeMo W 2025-03-09 04:50:52 exp_manager:1205] The checkpoint callback was told to monitor a validation value and trainer's max_steps was set to 1000. Please ensure that max_steps will run for at least 25 epochs to ensure that checkpointing will not error out.\n",
                        "[NeMo I 2025-03-09 04:50:52 exp_manager:646] TFLOPs per sec per GPU will be calculated, conditioned on supported models. Defaults to -1 upon failure.\n",
                        " NeMo-text-processing :: INFO     :: Creating ClassifyFst grammars.\n",
                        "Creating ClassifyFst grammars.\n",
                        "[NeMo W 2025-03-09 04:51:19 en_us_arpabet:66] apply_to_oov_word=None, This means that some of words will remain unchanged if they are not handled by any of the rules in self.parse_one_word(). This may be intended if phonemes and chars are both valid inputs, otherwise, you may see unexpected deletions in your input.\n",
                        "[NeMo I 2025-03-09 04:51:19 dataset:230] Loading dataset from /home/antonio/entoa_prosodic/train_manifest.json.\n",
                        "7939it [05:18, 24.93it/s] \n",
                        "[NeMo I 2025-03-09 04:56:37 dataset:268] Loaded dataset with 7939 files.\n",
                        "[NeMo I 2025-03-09 04:56:37 dataset:270] Dataset contains 12.26 hours.\n",
                        "[NeMo I 2025-03-09 04:56:37 dataset:378] Pruned 2 files. Final dataset contains 7937 files\n",
                        "[NeMo I 2025-03-09 04:56:37 dataset:380] Pruned 0.00 hours. Final dataset contains 12.26 hours.\n",
                        "[NeMo W 2025-03-09 04:56:38 nemo_logging:361] /opt/conda/envs/nemo/lib/python3.10/site-packages/torch/utils/data/dataloader.py:624: UserWarning: This DataLoader will create 12 worker processes in total. Our suggested max number of worker in current system is 4, which is smaller than what this DataLoader is going to create. Please be aware that excessive worker creation might get DataLoader running slow or even freeze, lower the worker number to avoid potential slowness/freeze if necessary.\n",
                        "      warnings.warn(\n",
                        "    \n",
                        "[NeMo I 2025-03-09 04:56:38 dataset:230] Loading dataset from /home/antonio/entoa_prosodic/validation_manifest.json.\n",
                        "500it [00:19, 26.01it/s]\n",
                        "[NeMo I 2025-03-09 04:56:57 dataset:268] Loaded dataset with 500 files.\n",
                        "[NeMo I 2025-03-09 04:56:57 dataset:270] Dataset contains 0.75 hours.\n",
                        "[NeMo I 2025-03-09 04:56:57 dataset:378] Pruned 0 files. Final dataset contains 500 files\n",
                        "[NeMo I 2025-03-09 04:56:57 dataset:380] Pruned 0.00 hours. Final dataset contains 0.75 hours.\n",
                        "[NeMo W 2025-03-09 04:56:57 nemo_logging:361] /opt/conda/envs/nemo/lib/python3.10/site-packages/torch/utils/data/dataloader.py:624: UserWarning: This DataLoader will create 8 worker processes in total. Our suggested max number of worker in current system is 4, which is smaller than what this DataLoader is going to create. Please be aware that excessive worker creation might get DataLoader running slow or even freeze, lower the worker number to avoid potential slowness/freeze if necessary.\n",
                        "      warnings.warn(\n",
                        "    \n",
                        "[NeMo I 2025-03-09 04:56:57 features:305] PADDING: 1\n",
                        " NeMo-text-processing :: INFO     :: Creating ClassifyFst grammars.\n",
                        "Creating ClassifyFst grammars.\n",
                        "[NeMo W 2025-03-09 04:57:26 en_us_arpabet:66] apply_to_oov_word=None, This means that some of words will remain unchanged if they are not handled by any of the rules in self.parse_one_word(). This may be intended if phonemes and chars are both valid inputs, otherwise, you may see unexpected deletions in your input.\n",
                        "[NeMo W 2025-03-09 04:57:26 modelPT:176] If you intend to do training or fine-tuning, please call the ModelPT.setup_training_data() method and provide a valid configuration file to setup the train data loader.\n",
                        "    Train config : \n",
                        "    dataset:\n",
                        "      _target_: nemo.collections.tts.torch.data.TTSDataset\n",
                        "      manifest_filepath: /ws/LJSpeech/nvidia_ljspeech_train_clean_ngc.json\n",
                        "      sample_rate: 22050\n",
                        "      sup_data_path: /raid/LJSpeech/supplementary\n",
                        "      sup_data_types:\n",
                        "      - align_prior_matrix\n",
                        "      - pitch\n",
                        "      n_fft: 1024\n",
                        "      win_length: 1024\n",
                        "      hop_length: 256\n",
                        "      window: hann\n",
                        "      n_mels: 80\n",
                        "      lowfreq: 0\n",
                        "      highfreq: 8000\n",
                        "      max_duration: null\n",
                        "      min_duration: 0.1\n",
                        "      ignore_file: null\n",
                        "      trim: false\n",
                        "      pitch_fmin: 65.40639132514966\n",
                        "      pitch_fmax: 2093.004522404789\n",
                        "      pitch_norm: true\n",
                        "      pitch_mean: 212.35873413085938\n",
                        "      pitch_std: 68.52806091308594\n",
                        "      use_beta_binomial_interpolator: true\n",
                        "    dataloader_params:\n",
                        "      drop_last: false\n",
                        "      shuffle: true\n",
                        "      batch_size: 24\n",
                        "      num_workers: 0\n",
                        "    \n",
                        "[NeMo W 2025-03-09 04:57:26 modelPT:183] If you intend to do validation, please call the ModelPT.setup_validation_data() or ModelPT.setup_multiple_validation_data() method and provide a valid configuration file to setup the validation data loader(s). \n",
                        "    Validation config : \n",
                        "    dataset:\n",
                        "      _target_: nemo.collections.tts.torch.data.TTSDataset\n",
                        "      manifest_filepath: /ws/LJSpeech/nvidia_ljspeech_val_clean_ngc.json\n",
                        "      sample_rate: 22050\n",
                        "      sup_data_path: /raid/LJSpeech/supplementary\n",
                        "      sup_data_types:\n",
                        "      - align_prior_matrix\n",
                        "      - pitch\n",
                        "      n_fft: 1024\n",
                        "      win_length: 1024\n",
                        "      hop_length: 256\n",
                        "      window: hann\n",
                        "      n_mels: 80\n",
                        "      lowfreq: 0\n",
                        "      highfreq: 8000\n",
                        "      max_duration: null\n",
                        "      min_duration: null\n",
                        "      ignore_file: null\n",
                        "      trim: false\n",
                        "      pitch_fmin: 65.40639132514966\n",
                        "      pitch_fmax: 2093.004522404789\n",
                        "      pitch_norm: true\n",
                        "      pitch_mean: 212.35873413085938\n",
                        "      pitch_std: 68.52806091308594\n",
                        "      use_beta_binomial_interpolator: true\n",
                        "    dataloader_params:\n",
                        "      drop_last: false\n",
                        "      shuffle: false\n",
                        "      batch_size: 24\n",
                        "      num_workers: 0\n",
                        "    \n",
                        "[NeMo I 2025-03-09 04:57:26 features:305] PADDING: 1\n",
                        "[NeMo I 2025-03-09 04:57:27 save_restore_connector:275] Model FastPitchModel was successfully restored from /home/antonio/.cache/torch/NeMo/NeMo_2.1.0/tts_en_fastpitch_align/b7d086a07b5126c12d5077d9a641a38c/tts_en_fastpitch_align.nemo.\n",
                        "[NeMo I 2025-03-09 04:57:27 modelPT:1313] Model checkpoint restored from nemo file with path : `/home/antonio/.cache/torch/NeMo/NeMo_2.1.0/tts_en_fastpitch_align/b7d086a07b5126c12d5077d9a641a38c/tts_en_fastpitch_align.nemo`\n",
                        "LOCAL_RANK: 0 - CUDA_VISIBLE_DEVICES: [0]\n",
                        "[NeMo I 2025-03-09 04:57:27 modelPT:793] Optimizer config = Adam (\n",
                        "    Parameter Group 0\n",
                        "        amsgrad: False\n",
                        "        betas: [0.9, 0.999]\n",
                        "        capturable: False\n",
                        "        differentiable: False\n",
                        "        eps: 1e-08\n",
                        "        foreach: None\n",
                        "        fused: None\n",
                        "        lr: 0.0002\n",
                        "        maximize: False\n",
                        "        weight_decay: 1e-06\n",
                        "    )\n",
                        "[NeMo I 2025-03-09 04:57:27 lr_scheduler:797] Scheduler not initialized as no `sched` config supplied to setup_optimizer()\n",
                        "\n",
                        "  | Name                | Type                              | Params | Mode \n",
                        "----------------------------------------------------------------------------------\n",
                        "0 | mel_loss_fn         | MelLoss                           | 0      | train\n",
                        "1 | pitch_loss_fn       | PitchLoss                         | 0      | train\n",
                        "2 | duration_loss_fn    | DurationLoss                      | 0      | train\n",
                        "3 | energy_loss_fn      | EnergyLoss                        | 0      | train\n",
                        "4 | aligner             | AlignmentEncoder                  | 1.0 M  | train\n",
                        "5 | forward_sum_loss_fn | ForwardSumLoss                    | 0      | train\n",
                        "6 | bin_loss_fn         | BinLoss                           | 0      | train\n",
                        "7 | preprocessor        | AudioToMelSpectrogramPreprocessor | 0      | train\n",
                        "8 | fastpitch           | FastPitchModule                   | 45.8 M | train\n",
                        "----------------------------------------------------------------------------------\n",
                        "45.8 M    Trainable params\n",
                        "0         Non-trainable params\n",
                        "45.8 M    Total params\n",
                        "183.098   Total estimated model params size (MB)\n",
                        "236       Modules in train mode\n",
                        "0         Modules in eval mode\n",
                        "Sanity Checking DataLoader 0:   0%|                       | 0/2 [00:00<?, ?it/s]Error executing job with overrides: ['train_dataset=/home/antonio/entoa_prosodic/train_manifest.json', 'validation_datasets=/home/antonio/entoa_prosodic/validation_manifest.json', 'sup_data_path=/home/antonio/data/fastpitch_sup_data', 'phoneme_dict_path=/home/antonio/NeMo/scripts/tts_dataset_files/cmudict-0.7b_nv22.10', 'heteronyms_path=/home/antonio/NeMo/scripts/tts_dataset_files/heteronyms-052722', 'exp_manager.exp_dir=/home/antonio/data/ljspeech_to_9017_no_mixing_5_mins', '+init_from_nemo_model=/home/antonio/.cache/torch/NeMo/NeMo_2.1.0/tts_en_fastpitch_align/b7d086a07b5126c12d5077d9a641a38c/tts_en_fastpitch_align.nemo', '+trainer.max_steps=1000', '~trainer.max_epochs', 'trainer.check_val_every_n_epoch=25', 'model.train_ds.dataloader_params.batch_size=4', 'model.validation_ds.dataloader_params.batch_size=24', 'model.n_speakers=41', 'model.pitch_mean=152.3', 'model.pitch_std=64.0', 'model.pitch_fmin=30', 'model.pitch_fmax=512', 'model.optim.lr=2e-4', '~model.optim.sched', 'model.optim.name=adam', 'trainer.devices=1', 'trainer.strategy=auto', '+model.text_tokenizer.add_blank_at=true']\n",
                        "Traceback (most recent call last):\n",
                        "  File \"/home/antonio/NeMo/examples/tts/fastpitch_finetune.py\", line 41, in <module>\n",
                        "    main()  # noqa pylint: disable=no-value-for-parameter\n",
                        "  File \"/opt/conda/envs/nemo/lib/python3.10/site-packages/nemo/core/config/hydra_runner.py\", line 129, in wrapper\n",
                        "    _run_hydra(\n",
                        "  File \"/opt/conda/envs/nemo/lib/python3.10/site-packages/hydra/_internal/utils.py\", line 394, in _run_hydra\n",
                        "    _run_app(\n",
                        "  File \"/opt/conda/envs/nemo/lib/python3.10/site-packages/hydra/_internal/utils.py\", line 457, in _run_app\n",
                        "    run_and_report(\n",
                        "  File \"/opt/conda/envs/nemo/lib/python3.10/site-packages/hydra/_internal/utils.py\", line 223, in run_and_report\n",
                        "    raise ex\n",
                        "  File \"/opt/conda/envs/nemo/lib/python3.10/site-packages/hydra/_internal/utils.py\", line 220, in run_and_report\n",
                        "    return func()\n",
                        "  File \"/opt/conda/envs/nemo/lib/python3.10/site-packages/hydra/_internal/utils.py\", line 458, in <lambda>\n",
                        "    lambda: hydra.run(\n",
                        "  File \"/opt/conda/envs/nemo/lib/python3.10/site-packages/hydra/_internal/hydra.py\", line 132, in run\n",
                        "    _ = ret.return_value\n",
                        "  File \"/opt/conda/envs/nemo/lib/python3.10/site-packages/hydra/core/utils.py\", line 260, in return_value\n",
                        "    raise self._return_value\n",
                        "  File \"/opt/conda/envs/nemo/lib/python3.10/site-packages/hydra/core/utils.py\", line 186, in run_job\n",
                        "    ret.return_value = task_function(task_cfg)\n",
                        "  File \"/home/antonio/NeMo/examples/tts/fastpitch_finetune.py\", line 37, in main\n",
                        "    trainer.fit(model)\n",
                        "  File \"/opt/conda/envs/nemo/lib/python3.10/site-packages/lightning/pytorch/trainer/trainer.py\", line 538, in fit\n",
                        "    call._call_and_handle_interrupt(\n",
                        "  File \"/opt/conda/envs/nemo/lib/python3.10/site-packages/lightning/pytorch/trainer/call.py\", line 47, in _call_and_handle_interrupt\n",
                        "    return trainer_fn(*args, **kwargs)\n",
                        "  File \"/opt/conda/envs/nemo/lib/python3.10/site-packages/lightning/pytorch/trainer/trainer.py\", line 574, in _fit_impl\n",
                        "    self._run(model, ckpt_path=ckpt_path)\n",
                        "  File \"/opt/conda/envs/nemo/lib/python3.10/site-packages/lightning/pytorch/trainer/trainer.py\", line 981, in _run\n",
                        "    results = self._run_stage()\n",
                        "  File \"/opt/conda/envs/nemo/lib/python3.10/site-packages/lightning/pytorch/trainer/trainer.py\", line 1023, in _run_stage\n",
                        "    self._run_sanity_check()\n",
                        "  File \"/opt/conda/envs/nemo/lib/python3.10/site-packages/lightning/pytorch/trainer/trainer.py\", line 1052, in _run_sanity_check\n",
                        "    val_loop.run()\n",
                        "  File \"/opt/conda/envs/nemo/lib/python3.10/site-packages/lightning/pytorch/loops/utilities.py\", line 178, in _decorator\n",
                        "    return loop_run(self, *args, **kwargs)\n",
                        "  File \"/opt/conda/envs/nemo/lib/python3.10/site-packages/lightning/pytorch/loops/evaluation_loop.py\", line 135, in run\n",
                        "    self._evaluation_step(batch, batch_idx, dataloader_idx, dataloader_iter)\n",
                        "  File \"/opt/conda/envs/nemo/lib/python3.10/site-packages/lightning/pytorch/loops/evaluation_loop.py\", line 396, in _evaluation_step\n",
                        "    output = call._call_strategy_hook(trainer, hook_name, *step_args)\n",
                        "  File \"/opt/conda/envs/nemo/lib/python3.10/site-packages/lightning/pytorch/trainer/call.py\", line 319, in _call_strategy_hook\n",
                        "    output = fn(*args, **kwargs)\n",
                        "  File \"/opt/conda/envs/nemo/lib/python3.10/site-packages/lightning/pytorch/strategies/strategy.py\", line 411, in validation_step\n",
                        "    return self.lightning_module.validation_step(*args, **kwargs)\n",
                        "  File \"/opt/conda/envs/nemo/lib/python3.10/site-packages/nemo/collections/tts/models/fastpitch.py\", line 532, in validation_step\n",
                        "    ) = self(\n",
                        "  File \"/opt/conda/envs/nemo/lib/python3.10/site-packages/torch/nn/modules/module.py\", line 1739, in _wrapped_call_impl\n",
                        "    return self._call_impl(*args, **kwargs)\n",
                        "  File \"/opt/conda/envs/nemo/lib/python3.10/site-packages/torch/nn/modules/module.py\", line 1750, in _call_impl\n",
                        "    return forward_call(*args, **kwargs)\n",
                        "  File \"/opt/conda/envs/nemo/lib/python3.10/site-packages/nemo/core/classes/common.py\", line 1081, in wrapped_call\n",
                        "    outputs = wrapped(*args, **kwargs)\n",
                        "  File \"/opt/conda/envs/nemo/lib/python3.10/site-packages/nemo/collections/tts/models/fastpitch.py\", line 323, in forward\n",
                        "    return self.fastpitch(\n",
                        "  File \"/opt/conda/envs/nemo/lib/python3.10/site-packages/torch/nn/modules/module.py\", line 1739, in _wrapped_call_impl\n",
                        "    return self._call_impl(*args, **kwargs)\n",
                        "  File \"/opt/conda/envs/nemo/lib/python3.10/site-packages/torch/nn/modules/module.py\", line 1750, in _call_impl\n",
                        "    return forward_call(*args, **kwargs)\n",
                        "  File \"/opt/conda/envs/nemo/lib/python3.10/site-packages/nemo/core/classes/common.py\", line 1081, in wrapped_call\n",
                        "    outputs = wrapped(*args, **kwargs)\n",
                        "  File \"/opt/conda/envs/nemo/lib/python3.10/site-packages/nemo/collections/tts/modules/fastpitch.py\", line 292, in forward\n",
                        "    spk_emb = self.get_speaker_embedding(\n",
                        "  File \"/opt/conda/envs/nemo/lib/python3.10/site-packages/nemo/collections/tts/modules/fastpitch.py\", line 262, in get_speaker_embedding\n",
                        "    raise ValueError('Please give speaker id to get lookup speaker embedding.')\n",
                        "ValueError: Please give speaker id to get lookup speaker embedding.\n"
                    ]
                }
            ],
            "source": [
                "# TODO(oktai15): remove +model.text_tokenizer.add_blank_at=true when we update FastPitch checkpoint\n",
                "!(python $FINETUNING_SCRIPT_PATH --config-name=fastpitch_align_v1.05.yaml \\\n",
                "  train_dataset=$manifest_train_path \\\n",
                "  validation_datasets=$manifest_validation_path \\\n",
                "  sup_data_path=$SUP_DATA_PATH \\\n",
                "  phoneme_dict_path=$CMU_DICT_PATH \\\n",
                "  heteronyms_path=$HETERONYMS_PATH \\\n",
                "  exp_manager.exp_dir=$EXP_MANAGER_DIR \\\n",
                "  +init_from_nemo_model=$FASTPITCH_PATH \\\n",
                "  +trainer.max_steps=1000 ~trainer.max_epochs \\\n",
                "  trainer.check_val_every_n_epoch=25 \\\n",
                "  model.train_ds.dataloader_params.batch_size=4 model.validation_ds.dataloader_params.batch_size=24 \\\n",
                "  model.n_speakers=41 model.pitch_mean=152.3 model.pitch_std=64.0 \\\n",
                "  model.pitch_fmin=30 model.pitch_fmax=512 model.optim.lr=2e-4 \\\n",
                "  ~model.optim.sched model.optim.name=adam trainer.devices=1 trainer.strategy=auto \\\n",
                "  +model.text_tokenizer.add_blank_at=true \\\n",
                ")"
            ]
        },
        {
            "cell_type": "code",
            "execution_count": null,
            "id": "5f277ee9",
            "metadata": {},
            "outputs": [],
            "source": [
                "python /home/antonio/NeMo/examples/tts/fastpitch_finetune.py --config-name=fastpitch_align_v1.05.yaml train_dataset=//home/antonio/data/9017_manifest_train_dur_5_mins_local.json validation_datasets=//home/antonio/data/9017_manifest_dev_ns_all_local.json sup_data_path=//home/antonio/data/fastpitch_sup_data phoneme_dict_path=//home/antonio/NeMo/scripts/tts_dataset_files/cmudict-0.7b_nv22.10 heteronyms_path=//home/antonio/NeMo/scripts/tts_dataset_files/heteronyms-052722 exp_manager.exp_dir=//home/antonio/data/ljspeech_to_9017_no_mixing_5_mins +init_from_nemo_model=//home/antonio/.cache/torch/NeMo/NeMo_2.1.0/tts_en_fastpitch_align/b7d086a07b5126c12d5077d9a641a38c/tts_en_fastpitch_align.nemo +trainer.max_steps=1000 ~trainer.max_epochs trainer.check_val_every_n_epoch=25 model.train_ds.dataloader_params.batch_size=24 model.validation_ds.dataloader_params.batch_size=24 model.n_speakers=1 model.pitch_mean=152.3 model.pitch_std=64.0 model.pitch_fmin=30 model.pitch_fmax=512 model.optim.lr=2e-4 ~model.optim.sched model.optim.name=adam trainer.devices=1 trainer.strategy=auto +model.text_tokenizer.add_blank_at=true\n"
            ]
        },
        {
            "cell_type": "code",
            "execution_count": null,
            "id": "1e69d923",
            "metadata": {
                "id": "reY1LV4lwWoq"
            },
            "outputs": [],
            "source": [
                "# TODO(oktai15): remove +model.text_tokenizer.add_blank_at=true when we update FastPitch checkpoint\n",
                "!(python fastpitch_finetune.py --config-name=fastpitch_align_v1.05.yaml \\\n",
                "  train_dataset=./9017_manifest_train_dur_5_mins_local.json \\\n",
                "  validation_datasets=./9017_manifest_dev_ns_all_local.json \\\n",
                "  sup_data_path=./fastpitch_sup_data \\\n",
                "  phoneme_dict_path=tts_dataset_files/cmudict-0.7b_nv22.10 \\\n",
                "  heteronyms_path=tts_dataset_files/heteronyms-052722 \\\n",
                "  exp_manager.exp_dir=./ljspeech_to_9017_no_mixing_5_mins \\\n",
                "  +init_from_nemo_model=./tts_en_fastpitch_align.nemo \\\n",
                "  +trainer.max_steps=1000 ~trainer.max_epochs \\\n",
                "  trainer.check_val_every_n_epoch=25 \\\n",
                "  model.train_ds.dataloader_params.batch_size=24 model.validation_ds.dataloader_params.batch_size=24 \\\n",
                "  model.n_speakers=1 model.pitch_mean=152.3 model.pitch_std=64.0 \\\n",
                "  model.pitch_fmin=30 model.pitch_fmax=512 model.optim.lr=2e-4 \\\n",
                "  ~model.optim.sched model.optim.name=adam trainer.devices=1 trainer.strategy=auto \\\n",
                "  +model.text_tokenizer.add_blank_at=true \\\n",
                ")"
            ]
        },
        {
            "cell_type": "markdown",
            "id": "c67a1086",
            "metadata": {
                "id": "j2svKvd1eMhf"
            },
            "source": [
                "Let's take a closer look at the training command:\n",
                "\n",
                "* `--config-name=fastpitch_align_v1.05.yaml`\n",
                "  * We first tell the script what config file to use.\n",
                "\n",
                "* `train_dataset=./9017_manifest_train_dur_5_mins_local.json \n",
                "  validation_datasets=./9017_manifest_dev_ns_all_local.json \n",
                "  sup_data_path=./fastpitch_sup_data`\n",
                "  * We tell the script what manifest files to train and eval on, as well as where supplementary data is located (or will be calculated and saved during training if not provided).\n",
                "  \n",
                "* `phoneme_dict_path=tts_dataset_files/cmudict-0.7b_nv22.10 \n",
                "heteronyms_path=tts_dataset_files/heteronyms-052722\n",
                "`\n",
                "  * We tell the script where `phoneme_dict_path` and `heteronyms-052722` are located. These are the additional files we downloaded earlier, and are used in preprocessing the data.\n",
                "  \n",
                "* `exp_manager.exp_dir=./ljspeech_to_9017_no_mixing_5_mins`\n",
                "  * Where we want to save our log files, tensorboard file, checkpoints, and more.\n",
                "\n",
                "* `+init_from_nemo_model=./tts_en_fastpitch_align.nemo`\n",
                "  * We tell the script what checkpoint to finetune from.\n",
                "\n",
                "* `+trainer.max_steps=1000 ~trainer.max_epochs trainer.check_val_every_n_epoch=25`\n",
                "  * For this experiment, we tell the script to train for 1000 training steps/iterations rather than specifying a number of epochs to run. Since the config file specifies `max_epochs` instead, we need to remove that using `~trainer.max_epochs`.\n",
                "\n",
                "* `model.train_ds.dataloader_params.batch_size=24 model.validation_ds.dataloader_params.batch_size=24`\n",
                "  * Set batch sizes for the training and validation data loaders.\n",
                "\n",
                "* `model.n_speakers=1`\n",
                "  * The number of speakers in the data. There is only 1 for now, but we will revisit this parameter later in the notebook.\n",
                "\n",
                "* `model.pitch_mean=152.3 model.pitch_std=64.0 model.pitch_fmin=30 model.pitch_fmax=512`\n",
                "  * For the new speaker, we need to define new pitch hyperparameters for better audio quality.\n",
                "  * These parameters work for speaker 9017 from the Hi-Fi TTS dataset.\n",
                "  * If you are using a custom dataset, running the script `python <NeMo_base>/scripts/dataset_processing/tts/extract_sup_data.py manifest_filepath=<your_manifest_path>` will precalculate supplementary data and print these pitch stats.\n",
                "  * fmin and fmax are hyperparameters to librosa's pyin function. We recommend tweaking these only if the speaker is in a noisy environment, such that background noise isn't predicted to be speech.\n",
                "\n",
                "* `model.optim.lr=2e-4 ~model.optim.sched model.optim.name=adam`\n",
                "  * For fine-tuning, we lower the learning rate.\n",
                "  * We use a fixed learning rate of 2e-4.\n",
                "  * We switch from the lamb optimizer to the adam optimizer.\n",
                "\n",
                "* `trainer.devices=1 trainer.strategy=auto`\n",
                "  * For this notebook, we default to 1 gpu which means that we do not need ddp.\n",
                "  * If you have the compute resources, feel free to scale this up to the number of free gpus you have available.\n",
                "  * Please remove the `trainer.strategy=auto` section if you intend on multi-gpu training."
            ]
        },
        {
            "cell_type": "markdown",
            "id": "86675c74",
            "metadata": {
                "id": "c3bdf1ed"
            },
            "source": [
                "## Synthesize Samples from Finetuned Checkpoints"
            ]
        },
        {
            "cell_type": "markdown",
            "id": "908ad3bb",
            "metadata": {
                "id": "f2b46325"
            },
            "source": [
                "Once we have finetuned our FastPitch model, we can synthesize the audio samples for given text using the following inference steps. We use a HiFi-GAN vocoder trained on LJSpeech.\n",
                "\n",
                "We define some helper functions as well."
            ]
        },
        {
            "cell_type": "code",
            "execution_count": null,
            "id": "f5e85644",
            "metadata": {
                "id": "886c91dc"
            },
            "outputs": [],
            "source": [
                "from nemo.collections.tts.models import HifiGanModel\n",
                "from nemo.collections.tts.models import FastPitchModel\n",
                "\n",
                "vocoder = HifiGanModel.from_pretrained(\"tts_en_hifigan\")\n",
                "vocoder = vocoder.eval().cuda()"
            ]
        },
        {
            "cell_type": "code",
            "execution_count": null,
            "id": "559a4333",
            "metadata": {
                "id": "0a4c986f"
            },
            "outputs": [],
            "source": [
                "def infer(spec_gen_model, vocoder_model, str_input, speaker=None):\n",
                "    \"\"\"\n",
                "    Synthesizes spectrogram and audio from a text string given a spectrogram synthesis and vocoder model.\n",
                "    \n",
                "    Args:\n",
                "        spec_gen_model: Spectrogram generator model (FastPitch in our case)\n",
                "        vocoder_model: Vocoder model (HiFiGAN in our case)\n",
                "        str_input: Text input for the synthesis\n",
                "        speaker: Speaker ID\n",
                "    \n",
                "    Returns:\n",
                "        spectrogram and waveform of the synthesized audio.\n",
                "    \"\"\"\n",
                "    with torch.no_grad():\n",
                "        parsed = spec_gen_model.parse(str_input)\n",
                "        if speaker is not None:\n",
                "            speaker = torch.tensor([speaker]).long().to(device=spec_gen_model.device)\n",
                "        spectrogram = spec_gen_model.generate_spectrogram(tokens=parsed, speaker=speaker)\n",
                "        audio = vocoder_model.convert_spectrogram_to_audio(spec=spectrogram)\n",
                "        \n",
                "    if spectrogram is not None:\n",
                "        if isinstance(spectrogram, torch.Tensor):\n",
                "            spectrogram = spectrogram.to('cpu').numpy()\n",
                "        if len(spectrogram.shape) == 3:\n",
                "            spectrogram = spectrogram[0]\n",
                "    if isinstance(audio, torch.Tensor):\n",
                "        audio = audio.to('cpu').numpy()\n",
                "    return spectrogram, audio\n",
                "\n",
                "def get_best_ckpt_from_last_run(\n",
                "        base_dir, \n",
                "        new_speaker_id, \n",
                "        duration_mins, \n",
                "        mixing_enabled, \n",
                "        original_speaker_id, \n",
                "        model_name=\"FastPitch\"\n",
                "    ):    \n",
                "    mixing = \"no_mixing\" if not mixing_enabled else \"mixing\"\n",
                "    \n",
                "    d = f\"{original_speaker_id}_to_{new_speaker_id}_{mixing}_{duration_mins}_mins\"\n",
                "    \n",
                "    exp_dirs = list([i for i in (Path(base_dir) / d / model_name).iterdir() if i.is_dir()])\n",
                "    last_exp_dir = sorted(exp_dirs)[-1]\n",
                "    \n",
                "    last_checkpoint_dir = last_exp_dir / \"checkpoints\"\n",
                "    \n",
                "    last_ckpt = list(last_checkpoint_dir.glob('*-last.ckpt'))\n",
                "\n",
                "    if len(last_ckpt) == 0:\n",
                "        raise ValueError(f\"There is no last checkpoint in {last_checkpoint_dir}.\")\n",
                "    \n",
                "    return str(last_ckpt[0])"
            ]
        },
        {
            "cell_type": "markdown",
            "id": "3d07c870",
            "metadata": {
                "id": "0153bd5a"
            },
            "source": [
                "Specify the speaker ID, duration of the dataset in minutes, and speaker mixing variables to find the relevant checkpoint (for example, we've saved our model in `ljspeech_to_9017_no_mixing_5_mins/`) and compare the synthesized audio with validation samples of the new speaker.\n",
                "\n",
                "The mixing variable is False for now, but we include some code to handle multiple speakers for reference."
            ]
        },
        {
            "cell_type": "code",
            "execution_count": null,
            "id": "5ad71372",
            "metadata": {
                "id": "8901f88b",
                "scrolled": false
            },
            "outputs": [],
            "source": [
                "new_speaker_id = 9017\n",
                "duration_mins = 5\n",
                "mixing = False\n",
                "original_speaker_id = \"ljspeech\"\n",
                "\n",
                "last_ckpt = get_best_ckpt_from_last_run(\"./\", new_speaker_id, duration_mins, mixing, original_speaker_id)\n",
                "print(last_ckpt)\n",
                "\n",
                "spec_model = FastPitchModel.load_from_checkpoint(last_ckpt)\n",
                "spec_model.eval().cuda()\n",
                "\n",
                "# Only need to set speaker_id if there is more than one speaker\n",
                "speaker_id = None\n",
                "if mixing:\n",
                "    speaker_id = 1\n",
                "\n",
                "num_val = 2  # Number of validation samples\n",
                "val_records = []\n",
                "with open(f\"{new_speaker_id}_manifest_dev_ns_all_local.json\", \"r\") as f:\n",
                "    for i, line in enumerate(f):\n",
                "        val_records.append(json.loads(line))\n",
                "        if len(val_records) >= num_val:\n",
                "            break\n",
                "            \n",
                "for val_record in val_records:\n",
                "    print(\"Real validation audio\")\n",
                "    ipd.display(ipd.Audio(val_record['audio_filepath'], rate=22050))\n",
                "    print(f\"SYNTHESIZED FOR -- Speaker: {new_speaker_id} | Dataset size: {duration_mins} mins | Mixing:{mixing} | Text: {val_record['text']}\")\n",
                "    spec, audio = infer(spec_model, vocoder, val_record['text'], speaker=speaker_id)\n",
                "    ipd.display(ipd.Audio(audio, rate=22050))\n",
                "    %matplotlib inline\n",
                "    imshow(spec, origin=\"lower\", aspect=\"auto\")\n",
                "    plt.show()"
            ]
        },
        {
            "cell_type": "markdown",
            "id": "28454638",
            "metadata": {
                "id": "ge2s7s9-w3py"
            },
            "source": [
                "## Improving Speech Quality\n",
                "\n",
                "We see that from fine-tuning FastPitch, we were able to generate audio in a male voice but the audio quality is not as good as we expect. We recommend two steps to improve audio quality:\n",
                "\n",
                "* Finetuning HiFi-GAN\n",
                "* Adding more data\n",
                "\n",
                "**Note that both of these steps are outside the scope of the notebook due to the limited compute available on Colab, but the code is included below for you to use outside of this notebook.**\n",
                "\n",
                "### Finetuning HiFi-GAN\n",
                "From the synthesized samples, there might be audible audio crackling. To fix this, we need to finetune HiFi-GAN on the new speaker's data. HiFi-GAN shows improvement using **synthesized mel spectrograms**, so the first step is to generate mel spectrograms with our finetuned FastPitch model to use as input.\n",
                "\n",
                "The code below uses our finetuned model to generate synthesized mels for the training set we have been using. You will also need to do the same for the validation set (code should be very similar, just with paths changed)."
            ]
        },
        {
            "cell_type": "code",
            "execution_count": null,
            "id": "b17d3760",
            "metadata": {},
            "outputs": [],
            "source": [
                "import json\n",
                "import numpy as np\n",
                "import torch\n",
                "import soundfile as sf\n",
                "\n",
                "from pathlib import Path\n",
                "\n",
                "from nemo.collections.tts.parts.utils.tts_dataset_utils import BetaBinomialInterpolator\n",
                "\n",
                "\n",
                "def load_wav(audio_file, target_sr=None):\n",
                "    with sf.SoundFile(audio_file, 'r') as f:\n",
                "        samples = f.read(dtype='float32')\n",
                "        sample_rate = f.samplerate\n",
                "        if target_sr is not None and target_sr != sample_rate:\n",
                "            samples = librosa.core.resample(samples, orig_sr=sample_rate, target_sr=target_sr)\n",
                "    return samples.transpose()\n",
                "\n",
                "# Get records from the training manifest\n",
                "manifest_path = \"./9017_manifest_train_dur_5_mins_local.json\"\n",
                "records = []\n",
                "with open(manifest_path, \"r\") as f:\n",
                "    for i, line in enumerate(f):\n",
                "        records.append(json.loads(line))\n",
                "\n",
                "beta_binomial_interpolator = BetaBinomialInterpolator()\n",
                "spec_model.eval()\n",
                "\n",
                "device = spec_model.device\n",
                "\n",
                "save_dir = Path(\"./9017_manifest_train_dur_5_mins_local_mels\")\n",
                "save_dir.mkdir(exist_ok=True, parents=True)\n",
                "\n",
                "# Generate a spectrograms (we need to use ground truth alignment for correct matching between audio and mels)\n",
                "for i, r in enumerate(records):\n",
                "    audio = load_wav(r[\"audio_filepath\"])\n",
                "    audio = torch.from_numpy(audio).unsqueeze(0).to(device)\n",
                "    audio_len = torch.tensor(audio.shape[1], dtype=torch.long, device=device).unsqueeze(0)\n",
                "    \n",
                "    # Again, our finetuned FastPitch model doesn't use multiple speakers,\n",
                "    # but we keep the code to support it here for reference\n",
                "    if spec_model.fastpitch.speaker_emb is not None and \"speaker\" in r:\n",
                "        speaker = torch.tensor([r['speaker']]).to(device)\n",
                "    else:\n",
                "        speaker = None\n",
                "    \n",
                "    with torch.no_grad():\n",
                "        if \"normalized_text\" in r:\n",
                "            text = spec_model.parse(r[\"normalized_text\"], normalize=False)\n",
                "        else:\n",
                "            text = spec_model.parse(r['text'])\n",
                "        \n",
                "        text_len = torch.tensor(text.shape[-1], dtype=torch.long, device=device).unsqueeze(0)\n",
                "    \n",
                "        spect, spect_len = spec_model.preprocessor(input_signal=audio, length=audio_len)\n",
                "\n",
                "        # Generate attention prior and spectrogram inputs for HiFi-GAN\n",
                "        attn_prior = torch.from_numpy(\n",
                "          beta_binomial_interpolator(spect_len.item(), text_len.item())\n",
                "        ).unsqueeze(0).to(text.device)\n",
                "            \n",
                "        spectrogram = spec_model.forward(\n",
                "          text=text, \n",
                "          input_lens=text_len, \n",
                "          spec=spect, \n",
                "          mel_lens=spect_len, \n",
                "          attn_prior=attn_prior,\n",
                "          speaker=speaker,\n",
                "        )[0]\n",
                "        \n",
                "        save_path = save_dir / f\"mel_{i}.npy\"\n",
                "        np.save(save_path, spectrogram[0].to('cpu').numpy())\n",
                "        r[\"mel_filepath\"] = str(save_path)\n",
                "\n",
                "hifigan_manifest_path = \"hifigan_train_ft.json\"\n",
                "with open(hifigan_manifest_path, \"w\") as f:\n",
                "    for r in records:\n",
                "        f.write(json.dumps(r) + '\\n')\n",
                "# Please do the same for the validation json. Code is omitted."
            ]
        },
        {
            "attachments": {},
            "cell_type": "markdown",
            "id": "843674e7",
            "metadata": {},
            "source": [
                "We can then finetune hifigan similarly to fastpitch using NeMo's [hifigan_finetune.py](https://github.com/NVIDIA/NeMo/blob/main/examples/tts/hifigan_finetune.py) and [hifigan.yaml](https://github.com/NVIDIA/NeMo/blob/main/examples/tts/conf/hifigan/hifigan.yaml):\n",
                "\n",
                "```bash\n",
                "python examples/tts/hifigan_finetune.py \\\n",
                "--config-name=hifigan.yaml \\\n",
                "model.train_ds.dataloader_params.batch_size=32 \\\n",
                "model.max_steps=1000 \\\n",
                "model.optim.lr=0.00001 \\\n",
                "~model.optim.sched \\\n",
                "train_dataset=./hifigan_train_ft.json \\\n",
                "validation_datasets=./hifigan_val_ft.json \\\n",
                "exp_manager.exp_dir=hifigan_ft \\\n",
                "+init_from_pretrained_model=tts_en_hifigan \\\n",
                "trainer.check_val_every_n_epoch=10 \\\n",
                "model/train_ds=train_ds_finetune \\\n",
                "model/validation_ds=val_ds_finetune\n",
                "```\n",
                "\n",
                "Like when finetuning FastPitch, we lower the learning rate and get rid of the optimizer schedule for finetuning. You will need to create `<your_hifigan_val_manifest>` and the synthesized mels corresponding to it.\n",
                "\n",
                "As mentioned, the above command is not runnable in Colab due to limited compute resources, but you are free to finetune HiFi-GAN on your own machines.\n",
                "\n",
                "### Adding more data\n",
                "We can add more data in two ways. They can be combined for the best effect:\n",
                "\n",
                "* **Add more training data from the new speaker**\n",
                "\n",
                "The entire notebook can be repeated from the top after a new JSON manifest is defined that includes the additional data. Modify your finetuning commands to point to the new manifest. Be sure to increase the number of steps as more data is added to both the FastPitch and HiFi-GAN finetuning.\n",
                "\n",
                "We recommend **1000 steps per minute of audio for fastpitch and 500 steps per minute of audio for HiFi-GAN**.\n",
                "\n",
                "* **Mix new speaker data with old speaker data**\n",
                "\n",
                "We recommend finetuning FastPitch (but not HiFi-GAN) using both old speaker data (LJSpeech in this notebook) and the new speaker data. In this case, please modify the JSON manifests when finetuning FastPitch to include speaker information by adding a `speaker` field to each entry:\n",
                "\n",
                "```\n",
                "{\"audio_filepath\": \"new_speaker.wav\", \"text\": \"sample\", \"duration\": 2.6, \"speaker\": 1}\n",
                "{\"audio_filepath\": \"old_speaker.wav\", \"text\": \"LJSpeech sample\", \"duration\": 2.6, \"speaker\": 0}\n",
                "```\n",
                "\n",
                "5 hours of data from the old speaker should be sufficient for training; it's up to you how much data from the old speaker to use in validation.\n",
                "\n",
                "For the training manifest, since we likely have less data from the new speaker, we need to ensure that the model sees a similar amount of new data and old data. We can do this by repeating samples from the new speaker until we have an equivalent number of samples from the old and new speaker. For each sample from the old speaker, please add a sample from the new speaker in the .json.\n",
                "\n",
                "As a toy example, if we use 4 samples of the old speaker and only 2 samples of the new speaker, we would want the order of samples in our manifest to look something like this:\n",
                "\n",
                "```\n",
                "old_speaker_sample_0\n",
                "new_speaker_sample_0\n",
                "old_speaker_sample_1\n",
                "new_speaker_sample_1\n",
                "old_speaker_sample_2\n",
                "new_speaker_sample_0  # Start repeat of new speaker samples\n",
                "old_speaker_sample_3\n",
                "new_speaker_sample_1\n",
                "```\n",
                "\n",
                "Once the manifests are created, we can modify the FastPitch training command to point to the new training and validation JSON files.\n",
                "\n",
                "We also need to update `model.n_speakers=1` to `model.n_speakers=2`, as well as update the `sup_data_types` specified in the config file to include `speaker_id` (`sup_data_types=[align_prior_matrix,pitch,speaker_id]`). Updating these two fields is very important--otherwise the model will not recognize that there is more than one speaker!\n",
                "\n",
                "Ensure the pitch statistics correspond to the new speaker rather than the old speaker for best results.\n",
                "\n",
                "**For HiFiGAN finetuning, the training should be done on the new speaker data.**"
            ]
        }
    ],
    "metadata": {
        "kernelspec": {
            "display_name": "nemo",
            "language": "python",
            "name": "python3"
        },
        "language_info": {
            "codemirror_mode": {
                "name": "ipython",
                "version": 3
            },
            "file_extension": ".py",
            "mimetype": "text/x-python",
            "name": "python",
            "nbconvert_exporter": "python",
            "pygments_lexer": "ipython3",
            "version": "3.10.16"
        }
    },
    "nbformat": 4,
    "nbformat_minor": 5
}
