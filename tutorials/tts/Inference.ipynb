{
 "cells": [
  {
   "cell_type": "markdown",
   "id": "b0d971e7",
   "metadata": {},
   "source": [
    "# Inference"
   ]
  },
  {
   "cell_type": "code",
   "execution_count": null,
   "id": "de967756",
   "metadata": {},
   "outputs": [],
   "source": [
    "import torch\n",
    "from IPython.display import display\n",
    "from omegaconf import OmegaConf, open_dict\n",
    "from ipywidgets import Select, HBox, Label\n",
    "from nemo.collections.tts.models.base import SpectrogramGenerator, Vocoder\n",
    "\n",
    "from nemo.collections.tts.models.fastpitch import FastPitchModel\n",
    "from nemo.collections.tts.models import HifiGanModel"
   ]
  },
  {
   "cell_type": "code",
   "execution_count": 2,
   "id": "ea18c817",
   "metadata": {},
   "outputs": [
    {
     "name": "stdout",
     "output_type": "stream",
     "text": [
      "Select the model(s) that you want to use. Please choose 1 spectrogram generator and 1 vocoder.\n"
     ]
    },
    {
     "data": {
      "application/vnd.jupyter.widget-view+json": {
       "model_id": "d8dbb9e62cdd4c2886aacf63dc20336e",
       "version_major": 2,
       "version_minor": 0
      },
      "text/plain": [
       "HBox(children=(Select(index=1, options=('tacotron2', 'fastpitch', 'mixertts', 'mixerttsx', None), value='fastp…"
      ]
     },
     "metadata": {},
     "output_type": "display_data"
    }
   ],
   "source": [
    "supported_spec_gen = [\"tacotron2\", \"fastpitch\", \"mixertts\", \"mixerttsx\", None]\n",
    "supported_audio_gen = [\"waveglow\", \"hifigan\", \"univnet\", \"griffin-lim\", None]\n",
    "\n",
    "print(\"Select the model(s) that you want to use. Please choose 1 spectrogram generator and 1 vocoder.\")\n",
    "spectrogram_generator_selector = Select(options=supported_spec_gen, value='fastpitch')\n",
    "audio_generator_selector = Select(options=supported_audio_gen, value='hifigan')\n",
    "display(HBox([spectrogram_generator_selector, Label(\"+\"), audio_generator_selector]))"
   ]
  },
  {
   "cell_type": "code",
   "execution_count": 3,
   "id": "079b241f",
   "metadata": {},
   "outputs": [],
   "source": [
    "spectrogram_generator = spectrogram_generator_selector.value\n",
    "audio_generator = audio_generator_selector.value\n",
    "\n",
    "if spectrogram_generator is None and audio_generator is None:\n",
    "    raise ValueError(\"No models were chosen. Please return to the previous step and choose either 1 end-to-end model or 1 spectrogram generator and 1 vocoder.\")\n",
    "\n",
    "if (spectrogram_generator and audio_generator is None) or (audio_generator and spectrogram_generator is None):\n",
    "    raise ValueError(\"In order to continue with the two step pipeline, both the spectrogram generator and the audio generator must be chosen, but one was `None`\")"
   ]
  },
  {
   "cell_type": "code",
   "execution_count": 4,
   "id": "174b97e4",
   "metadata": {},
   "outputs": [],
   "source": [
    "def load_spectrogram_model():\n",
    "    override_conf = None\n",
    "    \n",
    "    from_pretrained_call = SpectrogramGenerator.from_pretrained\n",
    "    \n",
    "    if spectrogram_generator == \"tacotron2\":\n",
    "        from nemo.collections.tts.models import Tacotron2Model\n",
    "        pretrained_model = \"tts_en_tacotron2\"\n",
    "    elif spectrogram_generator == \"fastpitch\":\n",
    "        from nemo.collections.tts.models import FastPitchModel\n",
    "        pretrained_model = \"tts_en_fastpitch\"\n",
    "    elif spectrogram_generator == \"mixertts\":\n",
    "        from nemo.collections.tts.models import MixerTTSModel\n",
    "        pretrained_model = \"tts_en_lj_mixertts\"\n",
    "    elif spectrogram_generator == \"mixerttsx\":\n",
    "        from nemo.collections.tts.models import MixerTTSModel\n",
    "        pretrained_model = \"tts_en_lj_mixerttsx\"\n",
    "    else:\n",
    "        raise NotImplementedError\n",
    "        \n",
    "    model = from_pretrained_call(pretrained_model, override_config_path=override_conf)\n",
    "    \n",
    "    return model"
   ]
  },
  {
   "cell_type": "code",
   "execution_count": 6,
   "id": "d2653434",
   "metadata": {},
   "outputs": [],
   "source": [
    "def load_vocoder_model():\n",
    "    TwoStagesModel = False\n",
    "    strict=True\n",
    "    \n",
    "    if audio_generator == \"waveglow\":\n",
    "        from nemo.collections.tts.models import WaveGlowModel\n",
    "        pretrained_model = \"tts_waveglow\"\n",
    "        strict=False\n",
    "    elif audio_generator == \"hifigan\":\n",
    "        from nemo.collections.tts.models import HifiGanModel\n",
    "        spectrogram_generator2ft_hifigan = {\n",
    "            \"mixertts\": \"tts_en_lj_hifigan_ft_mixertts\",\n",
    "            \"mixerttsx\": \"tts_en_lj_hifigan_ft_mixerttsx\"\n",
    "        }\n",
    "        pretrained_model = spectrogram_generator2ft_hifigan.get(spectrogram_generator, \"tts_en_hifigan\")\n",
    "    elif audio_generator == \"univnet\":\n",
    "        from nemo.collections.tts.models import UnivNetModel\n",
    "        pretrained_model = \"tts_en_lj_univnet\"\n",
    "    elif audio_generator == \"griffin-lim\":\n",
    "        from nemo.collections.tts.models import TwoStagesModel\n",
    "        cfg = {'linvocoder':  {'_target_': 'nemo.collections.tts.models.two_stages.GriffinLimModel',\n",
    "                             'cfg': {'n_iters': 64, 'n_fft': 1024, 'l_hop': 256}},\n",
    "               'mel2spec': {'_target_': 'nemo.collections.tts.models.two_stages.MelPsuedoInverseModel',\n",
    "                           'cfg': {'sampling_rate': 22050, 'n_fft': 1024, \n",
    "                                   'mel_fmin': 0, 'mel_fmax': 8000, 'mel_freq': 80}}}\n",
    "        model = TwoStagesModel(cfg)            \n",
    "        TwoStagesModel = True\n",
    "    else:\n",
    "        raise NotImplementedError\n",
    "\n",
    "    if not TwoStagesModel:\n",
    "        model = Vocoder.from_pretrained(pretrained_model, strict=strict)\n",
    "        \n",
    "    return model"
   ]
  },
  {
   "cell_type": "code",
   "execution_count": 8,
   "id": "b465a276",
   "metadata": {},
   "outputs": [
    {
     "name": "stdout",
     "output_type": "stream",
     "text": [
      "[NeMo I 2025-04-17 13:37:24 cloud:58] Found existing object /home/antonio/.cache/torch/NeMo/NeMo_2.1.0/tts_en_fastpitch_align/b7d086a07b5126c12d5077d9a641a38c/tts_en_fastpitch_align.nemo.\n",
      "[NeMo I 2025-04-17 13:37:24 cloud:64] Re-using file from: /home/antonio/.cache/torch/NeMo/NeMo_2.1.0/tts_en_fastpitch_align/b7d086a07b5126c12d5077d9a641a38c/tts_en_fastpitch_align.nemo\n",
      "[NeMo I 2025-04-17 13:37:24 common:826] Instantiating model from pre-trained checkpoint\n"
     ]
    },
    {
     "name": "stderr",
     "output_type": "stream",
     "text": [
      "[NeMo W 2025-04-17 13:37:24 experimental:26] `<class 'nemo.collections.tts.g2p.models.i18n_ipa.IpaG2p'>` is experimental and not ready for production yet. Use at your own risk.\n",
      "[NeMo W 2025-04-17 13:37:26 i18n_ipa:124] apply_to_oov_word=None, This means that some of words will remain unchanged if they are not handled by any of the rules in self.parse_one_word(). This may be intended if phonemes and chars are both valid inputs, otherwise, you may see unexpected deletions in your input.\n",
      "[NeMo W 2025-04-17 13:37:26 experimental:26] `<class 'nemo.collections.common.tokenizers.text_to_speech.tts_tokenizers.IPATokenizer'>` is experimental and not ready for production yet. Use at your own risk.\n",
      "[NeMo W 2025-04-17 13:37:26 modelPT:176] If you intend to do training or fine-tuning, please call the ModelPT.setup_training_data() method and provide a valid configuration file to setup the train data loader.\n",
      "    Train config : \n",
      "    dataset:\n",
      "      _target_: nemo.collections.tts.data.text_to_speech_dataset.TextToSpeechDataset\n",
      "      dataset_meta:\n",
      "        cml:\n",
      "          manifest_path: /mnt/fs/data/cml-portuguese-2/train_manifest.json\n",
      "          audio_dir: /mnt/fs/data/cml-portuguese-2/audio_preprocessed\n",
      "          feature_dir: /mnt/fs/data/cml-portuguese-2/features\n",
      "      weighted_sampling_steps_per_epoch: 40000\n",
      "      sample_rate: 22050\n",
      "      speaker_path: /mnt/fs/data/cml-portuguese-2/speakers.json\n",
      "      align_prior_hop_length: 256\n",
      "      featurizers:\n",
      "        pitch:\n",
      "          _target_: nemo.collections.tts.parts.preprocessing.features.PitchFeaturizer\n",
      "          sample_rate: 22050\n",
      "          win_length: 1024\n",
      "          hop_length: 256\n",
      "          pitch_fmin: 60\n",
      "          pitch_fmax: 640\n",
      "        energy:\n",
      "          _target_: nemo.collections.tts.parts.preprocessing.features.EnergyFeaturizer\n",
      "          spec_featurizer:\n",
      "            _target_: nemo.collections.tts.parts.preprocessing.features.MelSpectrogramFeaturizer\n",
      "            sample_rate: 22050\n",
      "            win_length: 1024\n",
      "            hop_length: 256\n",
      "            mel_dim: 80\n",
      "            lowfreq: 0\n",
      "            highfreq: null\n",
      "      feature_processors:\n",
      "        pitch:\n",
      "          _target_: nemo.collections.tts.parts.preprocessing.feature_processors.MeanVarianceSpeakerNormalization\n",
      "          field: pitch\n",
      "          stats_path: /mnt/fs/data/cml-portuguese-2/feature_stats.json\n",
      "        energy:\n",
      "          _target_: nemo.collections.tts.parts.preprocessing.feature_processors.MeanVarianceSpeakerNormalization\n",
      "          field: energy\n",
      "          stats_path: /mnt/fs/data/cml-portuguese-2/feature_stats.json\n",
      "      min_duration: 0.1\n",
      "      max_duration: 10.0\n",
      "    dataloader_params:\n",
      "      batch_size: 32\n",
      "      num_workers: 4\n",
      "    \n",
      "[NeMo W 2025-04-17 13:37:26 modelPT:183] If you intend to do validation, please call the ModelPT.setup_validation_data() or ModelPT.setup_multiple_validation_data() method and provide a valid configuration file to setup the validation data loader(s). \n",
      "    Validation config : \n",
      "    dataset:\n",
      "      _target_: nemo.collections.tts.data.text_to_speech_dataset.TextToSpeechDataset\n",
      "      dataset_meta:\n",
      "        cml:\n",
      "          manifest_path: /mnt/fs/data/cml-portuguese-2/dev_manifest.json\n",
      "          audio_dir: /mnt/fs/data/cml-portuguese-2/audio_preprocessed\n",
      "          feature_dir: /mnt/fs/data/cml-portuguese-2/features\n",
      "      sample_rate: 22050\n",
      "      speaker_path: /mnt/fs/data/cml-portuguese-2/speakers.json\n",
      "      align_prior_hop_length: 256\n",
      "      featurizers:\n",
      "        pitch:\n",
      "          _target_: nemo.collections.tts.parts.preprocessing.features.PitchFeaturizer\n",
      "          sample_rate: 22050\n",
      "          win_length: 1024\n",
      "          hop_length: 256\n",
      "          pitch_fmin: 60\n",
      "          pitch_fmax: 640\n",
      "        energy:\n",
      "          _target_: nemo.collections.tts.parts.preprocessing.features.EnergyFeaturizer\n",
      "          spec_featurizer:\n",
      "            _target_: nemo.collections.tts.parts.preprocessing.features.MelSpectrogramFeaturizer\n",
      "            sample_rate: 22050\n",
      "            win_length: 1024\n",
      "            hop_length: 256\n",
      "            mel_dim: 80\n",
      "            lowfreq: 0\n",
      "            highfreq: null\n",
      "      feature_processors:\n",
      "        pitch:\n",
      "          _target_: nemo.collections.tts.parts.preprocessing.feature_processors.MeanVarianceSpeakerNormalization\n",
      "          field: pitch\n",
      "          stats_path: /mnt/fs/data/cml-portuguese-2/feature_stats.json\n",
      "        energy:\n",
      "          _target_: nemo.collections.tts.parts.preprocessing.feature_processors.MeanVarianceSpeakerNormalization\n",
      "          field: energy\n",
      "          stats_path: /mnt/fs/data/cml-portuguese-2/feature_stats.json\n",
      "    dataloader_params:\n",
      "      batch_size: 32\n",
      "      num_workers: 2\n",
      "    \n"
     ]
    },
    {
     "name": "stdout",
     "output_type": "stream",
     "text": [
      "[NeMo I 2025-04-17 13:37:26 features:305] PADDING: 1\n",
      "[NeMo I 2025-04-17 13:37:26 save_restore_connector:275] Model FastPitchModel was successfully restored from /home/antonio/.cache/torch/NeMo/NeMo_2.1.0/tts_en_fastpitch_align/b7d086a07b5126c12d5077d9a641a38c/tts_en_fastpitch_align.nemo.\n",
      "[NeMo I 2025-04-17 13:37:26 cloud:58] Found existing object /home/antonio/.cache/torch/NeMo/NeMo_2.1.0/tts_hifigan/e6da322f0f7e7dcf3f1900a9229a7e69/tts_hifigan.nemo.\n",
      "[NeMo I 2025-04-17 13:37:26 cloud:64] Re-using file from: /home/antonio/.cache/torch/NeMo/NeMo_2.1.0/tts_hifigan/e6da322f0f7e7dcf3f1900a9229a7e69/tts_hifigan.nemo\n",
      "[NeMo I 2025-04-17 13:37:26 common:826] Instantiating model from pre-trained checkpoint\n"
     ]
    },
    {
     "name": "stderr",
     "output_type": "stream",
     "text": [
      "[NeMo W 2025-04-17 13:37:31 modelPT:176] If you intend to do training or fine-tuning, please call the ModelPT.setup_training_data() method and provide a valid configuration file to setup the train data loader.\n",
      "    Train config : \n",
      "    dataset:\n",
      "      _target_: nemo.collections.tts.data.datalayers.MelAudioDataset\n",
      "      manifest_filepath: /home/fkreuk/data/train_finetune.txt\n",
      "      min_duration: 0.75\n",
      "      n_segments: 8192\n",
      "    dataloader_params:\n",
      "      drop_last: false\n",
      "      shuffle: true\n",
      "      batch_size: 64\n",
      "      num_workers: 4\n",
      "    \n",
      "[NeMo W 2025-04-17 13:37:31 modelPT:183] If you intend to do validation, please call the ModelPT.setup_validation_data() or ModelPT.setup_multiple_validation_data() method and provide a valid configuration file to setup the validation data loader(s). \n",
      "    Validation config : \n",
      "    dataset:\n",
      "      _target_: nemo.collections.tts.data.datalayers.MelAudioDataset\n",
      "      manifest_filepath: /home/fkreuk/data/val_finetune.txt\n",
      "      min_duration: 3\n",
      "      n_segments: 66150\n",
      "    dataloader_params:\n",
      "      drop_last: false\n",
      "      shuffle: false\n",
      "      batch_size: 5\n",
      "      num_workers: 4\n",
      "    \n",
      "[NeMo W 2025-04-17 13:37:31 features:282] Using torch_stft is deprecated and has been removed. The values have been forcibly set to False for FilterbankFeatures and AudioToMelSpectrogramPreprocessor. Please set exact_pad to True as needed.\n"
     ]
    },
    {
     "name": "stdout",
     "output_type": "stream",
     "text": [
      "[NeMo I 2025-04-17 13:37:31 features:305] PADDING: 0\n"
     ]
    },
    {
     "name": "stderr",
     "output_type": "stream",
     "text": [
      "[NeMo W 2025-04-17 13:37:31 features:282] Using torch_stft is deprecated and has been removed. The values have been forcibly set to False for FilterbankFeatures and AudioToMelSpectrogramPreprocessor. Please set exact_pad to True as needed.\n"
     ]
    },
    {
     "name": "stdout",
     "output_type": "stream",
     "text": [
      "[NeMo I 2025-04-17 13:37:31 features:305] PADDING: 0\n",
      "[NeMo I 2025-04-17 13:37:32 save_restore_connector:275] Model HifiGanModel was successfully restored from /home/antonio/.cache/torch/NeMo/NeMo_2.1.0/tts_hifigan/e6da322f0f7e7dcf3f1900a9229a7e69/tts_hifigan.nemo.\n"
     ]
    }
   ],
   "source": [
    "spec_gen = load_spectrogram_model().eval().cuda()\n",
    "vocoder = load_vocoder_model().eval().cuda()"
   ]
  },
  {
   "cell_type": "code",
   "execution_count": 16,
   "id": "6eba1d7c",
   "metadata": {},
   "outputs": [
    {
     "data": {
      "text/plain": [
       "(nemo.collections.tts.models.fastpitch.FastPitchModel,\n",
       " nemo.collections.tts.models.hifigan.HifiGanModel)"
      ]
     },
     "execution_count": 16,
     "metadata": {},
     "output_type": "execute_result"
    }
   ],
   "source": [
    "type(spec_gen), type(vocoder)"
   ]
  },
  {
   "cell_type": "code",
   "execution_count": 26,
   "id": "2f2895fe",
   "metadata": {},
   "outputs": [],
   "source": [
    "def infer(spec_gen_model:FastPitchModel, vocoder_model:HifiGanModel, str_input:str):\n",
    "    parser_model = spec_gen_model\n",
    "    with torch.no_grad():\n",
    "        parsed = parser_model.parse(str_input)\n",
    "        gen_spec_kwargs = {'speaker': 3}\n",
    "        \n",
    "        if spectrogram_generator == \"mixerttsx\":\n",
    "            gen_spec_kwargs[\"raw_texts\"] = [str_input]\n",
    "        \n",
    "        spectrogram = spec_gen_model.generate_spectrogram(tokens=parsed, **gen_spec_kwargs)\n",
    "        audio = vocoder_model.convert_spectrogram_to_audio(spec=spectrogram)\n",
    "        \n",
    "        if audio_generator == \"hifigan\":\n",
    "            audio = vocoder_model._bias_denoise(audio, spectrogram).squeeze(1)\n",
    "    if spectrogram is not None:\n",
    "        if isinstance(spectrogram, torch.Tensor):\n",
    "            spectrogram = spectrogram.to('cpu').numpy()\n",
    "        if len(spectrogram.shape) == 3:\n",
    "            spectrogram = spectrogram[0]\n",
    "    if isinstance(audio, torch.Tensor):\n",
    "        audio = audio.to('cpu').numpy()\n",
    "    return spectrogram, audio"
   ]
  },
  {
   "cell_type": "code",
   "execution_count": 27,
   "id": "440d4b34",
   "metadata": {},
   "outputs": [],
   "source": [
    "text_to_generate = input(\"Input what you want the model to say: \")\n",
    "spec, audio = infer(spec_gen, vocoder, text_to_generate)"
   ]
  },
  {
   "cell_type": "code",
   "execution_count": 28,
   "id": "25e3600a",
   "metadata": {},
   "outputs": [
    {
     "data": {
      "text/html": [
       "\n",
       "                <audio  controls=\"controls\" >\n",
       "                    <source src=\"data:audio/wav;base64,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\" type=\"audio/wav\" />\n",
       "                    Your browser does not support the audio element.\n",
       "                </audio>\n",
       "              "
      ],
      "text/plain": [
       "<IPython.lib.display.Audio object>"
      ]
     },
     "execution_count": 28,
     "metadata": {},
     "output_type": "execute_result"
    }
   ],
   "source": [
    "import IPython.display as ipd\n",
    "import numpy as np\n",
    "from PIL import Image\n",
    "from matplotlib.pyplot import imshow\n",
    "from matplotlib import pyplot as plt\n",
    "\n",
    "ipd.Audio(audio, rate=22050)"
   ]
  }
 ],
 "metadata": {
  "kernelspec": {
   "display_name": "nemo",
   "language": "python",
   "name": "python3"
  },
  "language_info": {
   "codemirror_mode": {
    "name": "ipython",
    "version": 3
   },
   "file_extension": ".py",
   "mimetype": "text/x-python",
   "name": "python",
   "nbconvert_exporter": "python",
   "pygments_lexer": "ipython3",
   "version": "3.10.16"
  }
 },
 "nbformat": 4,
 "nbformat_minor": 5
}
